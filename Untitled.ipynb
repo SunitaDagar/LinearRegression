{
 "cells": [
  {
   "cell_type": "markdown",
   "id": "6239b821",
   "metadata": {},
   "source": [
    "# Multiple Regression Model\n",
    "\n",
    "## Bike Sharing Assignment"
   ]
  },
  {
   "cell_type": "code",
   "execution_count": null,
   "id": "c4107087",
   "metadata": {},
   "outputs": [],
   "source": []
  }
 ],
 "metadata": {
  "kernelspec": {
   "display_name": "Python 3 (ipykernel)",
   "language": "python",
   "name": "python3"
  },
  "language_info": {
   "codemirror_mode": {
    "name": "ipython",
    "version": 3
   },
   "file_extension": ".py",
   "mimetype": "text/x-python",
   "name": "python",
   "nbconvert_exporter": "python",
   "pygments_lexer": "ipython3",
   "version": "3.10.9"
  }
 },
 "nbformat": 4,
 "nbformat_minor": 5
}
